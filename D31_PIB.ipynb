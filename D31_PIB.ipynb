{
  "nbformat": 4,
  "nbformat_minor": 0,
  "metadata": {
    "colab": {
      "provenance": [],
      "collapsed_sections": [
        "mbmam7xBKWRj"
      ],
      "include_colab_link": true
    },
    "kernelspec": {
      "name": "python3",
      "display_name": "Python 3"
    },
    "language_info": {
      "name": "python"
    }
  },
  "cells": [
    {
      "cell_type": "markdown",
      "metadata": {
        "id": "view-in-github",
        "colab_type": "text"
      },
      "source": [
        "<a href=\"https://colab.research.google.com/github/endspurt/mathe/blob/main/D31_PIB.ipynb\" target=\"_parent\"><img src=\"https://colab.research.google.com/assets/colab-badge.svg\" alt=\"Open In Colab\"/></a>"
      ]
    },
    {
      "cell_type": "markdown",
      "source": [
        "# Нагадування по Markdown"
      ],
      "metadata": {
        "id": "mbmam7xBKWRj"
      }
    },
    {
      "cell_type": "markdown",
      "source": [
        "Надаємо невелике нагадування записів в\n",
        "[Markdown](https://colab.research.google.com/notebooks/markdown_guide.ipynb) (LaTeX):\n",
        "\n",
        "Markdown | Preview\n",
        "--- | ---\n",
        "`**bold text**` | **bold text**\n",
        " \\\\$\\frac{x}{y}\\\\$ | $\\frac{x}{y}$\n",
        " \\\\$p^{x}_{y}\\\\$ | $p^{x}_{y}$\n",
        "\\\\$x \\cdot y\\\\$ | $x \\cdot y$\n",
        "\\\\$\\sqrt{x}\\\\$ | $\\sqrt{x}$\n",
        "\\\\$\\pi\\\\$ | $\\pi$\n",
        "\\\\$\\approx\\\\$ | $\\approx$\n",
        "\n",
        "І ще декілька прикладів:\n",
        "\n",
        "```markdown\n",
        "$y=x^2$\n",
        "\n",
        "$e^{i\\pi} + 1 = 0$\n",
        "\n",
        "$e^x=\\sum_{i=0}^\\infty \\frac{1}{i!}x^i$\n",
        "\n",
        "$\\frac{n!}{k!(n-k)!} = {n \\choose k}$\n",
        "\n",
        "$A_{m,n} =\n",
        " \\begin{pmatrix}\n",
        "  a_{1,1} & a_{1,2} & \\cdots & a_{1,n} \\\\\n",
        "  a_{2,1} & a_{2,2} & \\cdots & a_{2,n} \\\\\n",
        "  \\vdots  & \\vdots  & \\ddots & \\vdots  \\\\\n",
        "  a_{m,1} & a_{m,2} & \\cdots & a_{m,n}\n",
        " \\end{pmatrix}$\n",
        "\n",
        " $$\n",
        " I =\n",
        " \\left (\\begin{array}{cc}\n",
        " 1 & 0\\\\\n",
        " 0 & 1\n",
        " \\end{array}\\right)\n",
        " $$\n",
        "```\n",
        "\n",
        "$y=x^2$\n",
        "\n",
        "$e^{i\\pi} + 1 = 0$\n",
        "\n",
        "$e^x=\\sum_{i=0}^\\infty \\frac{1}{i!}x^i$\n",
        "\n",
        "$\\frac{n!}{k!(n-k)!} = {n \\choose k}$\n",
        "\n",
        "$A_{m,n} =\n",
        " \\begin{pmatrix}\n",
        "  a_{1,1} & a_{1,2} & \\cdots & a_{1,n} \\\\\n",
        "  a_{2,1} & a_{2,2} & \\cdots & a_{2,n} \\\\\n",
        "  \\vdots  & \\vdots  & \\ddots & \\vdots  \\\\\n",
        "  a_{m,1} & a_{m,2} & \\cdots & a_{m,n}\n",
        " \\end{pmatrix}$\n",
        "\n",
        "$I =\n",
        "\\left (\\begin{array}{cc}\n",
        "1 & 0\\\\\n",
        "0 & 1\n",
        "\\end{array}\\right)$\n",
        " ---"
      ],
      "metadata": {
        "id": "WKbf0DcrKYHi"
      }
    },
    {
      "cell_type": "markdown",
      "source": [
        "# Завдання 1.\n",
        "В шаблоні наведені числові вектори $\\overline{a}$ та $\\overline{b}$. Порахуй наступне:\n",
        "- сума $\\overline{a}$ та $\\overline{b}$\n",
        "- різниця $\\overline{a}$ та $\\overline{b}$\n",
        "- сума $\\overline{a}$ та $\\overline{b}^T$. Поясни отриманий результат.\n",
        "- матричний добуток (dot product) $\\overline{a}$ та $\\overline{b}^T$.\n",
        "- матричний добуток (dot product) $\\overline{a}$ та $\\overline{b}$. Поясни отриманий результат.\n",
        "- добуток Адамара (Hadamard product) $\\overline{a}$ та $\\overline{b}$. Поясни отриманий результат.\n",
        "- ділення $\\overline{a}$ та $\\overline{b}$. Поясни отриманий результат.\n",
        "- ділення $\\overline{a}$ та $\\overline{b}^T$. Поясни отриманий результат."
      ],
      "metadata": {
        "id": "AQsl6FeF0Sq3"
      }
    },
    {
      "cell_type": "code",
      "source": [
        "import numpy as np\n",
        "# Код оголошення векторів не можна змінювати\n",
        "a = np.array([[1, 2, 3, 4, 5]])\n",
        "b = np.array([[1/2, 1, 2, 3, 4]])\n",
        "\n",
        "\n",
        "\n",
        "\n"
      ],
      "metadata": {
        "id": "x_pAAV5I0Rqg",
        "colab": {
          "base_uri": "https://localhost:8080/"
        },
        "outputId": "edc75df8-2455-4afa-91be-5fae2335dce2"
      },
      "execution_count": 38,
      "outputs": [
        {
          "output_type": "stream",
          "name": "stdout",
          "text": [
            "Сума a і b: [[1.5 3.  5.  7.  9. ]]\n"
          ]
        }
      ]
    },
    {
      "cell_type": "code",
      "source": [
        "# Завдання 1: Сума 𝑎 + 𝑏\n",
        "sum_ab = a + b\n",
        "print(sum_ab)\n",
        "# Результат: [[1.5, 3, 5, 7, 9]]\n",
        "# Пояснення: Сума двох векторів обчислюється шляхом додавання відповідних елементів."
      ],
      "metadata": {
        "id": "-TcDgKRB0n-s",
        "colab": {
          "base_uri": "https://localhost:8080/"
        },
        "outputId": "f0880493-eefb-4297-f99f-20b393c6bbb7"
      },
      "execution_count": null,
      "outputs": [
        {
          "output_type": "stream",
          "name": "stdout",
          "text": [
            "Різниця a і b: [[0.5 1.  1.  1.  1. ]]\n"
          ]
        }
      ]
    },
    {
      "cell_type": "code",
      "source": [
        "# Завдання 2: Різниця 𝑎 - 𝑏\n",
        "diff_ab = a - b\n",
        "print(diff_ab)\n",
        "# Результат: [[0.5, 1, 1, 1, 1]]\n",
        "# Пояснення: Різниця двох векторів обчислюється шляхом віднімання відповідних елементів.\n",
        "\n"
      ],
      "metadata": {
        "id": "CcIk7MVQ1xgq",
        "colab": {
          "base_uri": "https://localhost:8080/"
        },
        "outputId": "a6b6de4c-86ed-48ed-eee2-d8ec892c18fb"
      },
      "execution_count": 39,
      "outputs": [
        {
          "output_type": "stream",
          "name": "stdout",
          "text": [
            "[[0.5 1.  1.  1.  1. ]]\n"
          ]
        }
      ]
    },
    {
      "cell_type": "code",
      "source": [
        "# Завдання 3: Сума 𝑎 + 𝑏^T\n",
        "try:\n",
        "    sum_abT = a + b.T\n",
        "    print(sum_abT)\n",
        "except ValueError as e:\n",
        "    print(e)\n",
        "# Результат: не визначено, оскільки розміри не співпадають\n",
        "# Пояснення: Сума вектора та транспонованого вектора можлива лише тоді, коли розміри збігаються. Тут розміри не співпадають, тому операція не визначена.\n",
        "\n",
        "\n",
        "\n",
        "\n"
      ],
      "metadata": {
        "id": "exb6q60N0uFv",
        "colab": {
          "base_uri": "https://localhost:8080/"
        },
        "outputId": "402051b3-ce36-42da-c186-4f54a25a4b90"
      },
      "execution_count": 40,
      "outputs": [
        {
          "output_type": "stream",
          "name": "stdout",
          "text": [
            "[[1.5 2.5 3.5 4.5 5.5]\n",
            " [2.  3.  4.  5.  6. ]\n",
            " [3.  4.  5.  6.  7. ]\n",
            " [4.  5.  6.  7.  8. ]\n",
            " [5.  6.  7.  8.  9. ]]\n"
          ]
        }
      ]
    },
    {
      "cell_type": "code",
      "source": [
        "# Завдання 4: Матричний добуток (dot product) 𝑎 ⋅ 𝑏^T\n",
        "dot_product = np.dot(a, b.T)\n",
        "print(dot_product)\n",
        "# Результат: [[40.5]]\n",
        "# Пояснення: Матричний добуток (dot product) обчислюється як сума добутків відповідних елементів двох векторів. Тут результатом є один скаляр.\n",
        "\n",
        "\n",
        "\n"
      ],
      "metadata": {
        "id": "oZB7Kx5_1c29",
        "colab": {
          "base_uri": "https://localhost:8080/"
        },
        "outputId": "394cad09-250b-43ce-d00e-89c47764e7f4"
      },
      "execution_count": 41,
      "outputs": [
        {
          "output_type": "stream",
          "name": "stdout",
          "text": [
            "[[40.5]]\n"
          ]
        }
      ]
    },
    {
      "cell_type": "code",
      "source": [
        "# Завдання 5: Добуток Адамара (Hadamard product) 𝑎 ⊙ 𝑏\n",
        "hadamard_product = a * b\n",
        "print(hadamard_product)\n",
        "# Результат: [[0.5, 2, 6, 12, 20]]\n",
        "# Пояснення: Добуток Адамара (елементний добуток) множить відповідні елементи двох векторів.\n"
      ],
      "metadata": {
        "id": "PbRyd3630xud",
        "colab": {
          "base_uri": "https://localhost:8080/"
        },
        "outputId": "543aee6c-7bfa-4b65-9bdf-fe5043303c5d"
      },
      "execution_count": 35,
      "outputs": [
        {
          "output_type": "stream",
          "name": "stdout",
          "text": [
            "[[ 0.5  2.   6.  12.  20. ]]\n"
          ]
        }
      ]
    },
    {
      "cell_type": "code",
      "source": [
        "# Завдання 6: Ділення 𝑎 / 𝑏\n",
        "division_ab = a / b\n",
        "print(division_ab)\n",
        "# Результат: [[2, 2, 1.5, 1.333, 1.25]]\n",
        "# Пояснення: Ділення двох векторів обчислюється шляхом поділу відповідних елементів."
      ],
      "metadata": {
        "id": "QPHTXr83ly7o",
        "colab": {
          "base_uri": "https://localhost:8080/"
        },
        "outputId": "0b3d33ea-fe0a-4d08-acdf-bb9901cbbdad"
      },
      "execution_count": 36,
      "outputs": [
        {
          "output_type": "stream",
          "name": "stdout",
          "text": [
            "[[2.         2.         1.5        1.33333333 1.25      ]]\n"
          ]
        }
      ]
    },
    {
      "cell_type": "markdown",
      "source": [],
      "metadata": {
        "id": "ONNM7KaGZEWo"
      }
    },
    {
      "cell_type": "code",
      "source": [
        "\n",
        "# Завдання 7: Ділення 𝑎 / 𝑏^T\n",
        "try:\n",
        "    division_abT = a / b.T\n",
        "    print(division_abT)\n",
        "except ValueError as e:\n",
        "    print(e)\n",
        "# Результат: не визначено, оскільки розміри не співпадають\n",
        "# Пояснення: Ділення вектора на транспонований вектор можливо лише тоді, коли розміри збігаються. Тут розміри не співпадають, тому операція не визначена.\n"
      ],
      "metadata": {
        "id": "9mAIEbkQ1pJH",
        "colab": {
          "base_uri": "https://localhost:8080/"
        },
        "outputId": "013bb6e8-524e-4eb4-e3a6-98eb6653aed6"
      },
      "execution_count": 42,
      "outputs": [
        {
          "output_type": "stream",
          "name": "stdout",
          "text": [
            "[[ 2.          4.          6.          8.         10.        ]\n",
            " [ 1.          2.          3.          4.          5.        ]\n",
            " [ 0.5         1.          1.5         2.          2.5       ]\n",
            " [ 0.33333333  0.66666667  1.          1.33333333  1.66666667]\n",
            " [ 0.25        0.5         0.75        1.          1.25      ]]\n"
          ]
        }
      ]
    },
    {
      "cell_type": "code",
      "source": [],
      "metadata": {
        "id": "pozfWRdc1qF9"
      },
      "execution_count": 37,
      "outputs": []
    },
    {
      "cell_type": "markdown",
      "source": [
        "# Завдання 2\n",
        "В цьому завданні ти навчишся перетворювати вектори за допомогою афінних перетворень.  \n",
        "Дано вектор:\n",
        "$$\n",
        "x =\n",
        "\\left(\\begin{array}{cc}\n",
        "2\\\\\n",
        "1\n",
        "\\end{array}\\right)\n",
        "$$\n",
        "\n",
        "\n",
        "Виконай аналітично наступні завдання задавши матрицю перетворення та застосуй її до вектора $x$:\n",
        "\n",
        "1. Зменши вектор $x$ в 2 рази по вісі $OX$ та збільш в 3 рази по вісі $OY$.\n",
        "2. Відобрази вектор $x$ відносно початку координат.\n",
        "3. Перенеси вектор $x$ на -3 по вісі $OX$ та на 1 по вісі $OY$.\n",
        "4. Змісти вектор $x$ на 60° по вісі $OY$.\n",
        "5. Поверни вектор $x$ на 30°.\n",
        "6. Об'єднай перетворення з кроків 1, 2, 4, 5 в одну матрицю та застосуй її до вектору $x$."
      ],
      "metadata": {
        "id": "W-FFJ2oK0TTF"
      }
    },
    {
      "cell_type": "markdown",
      "source": [],
      "metadata": {
        "id": "coRcpu8kgMqh"
      }
    },
    {
      "cell_type": "markdown",
      "source": [
        "#### 2.1 Зменши вектор  $x$  в 2 рази по вісі  OX  та збільш в 3 рази по вісі  OY ."
      ],
      "metadata": {
        "id": "6G4BWKMB33NV"
      }
    },
    {
      "cell_type": "markdown",
      "source": [
        "$$\n",
        "M_1 =\n",
        "\\left (\\begin{array}{cc}\n",
        "1/2 & 0\\\\\n",
        "0 & 3\n",
        "\\end{array}\\right)\n",
        "$$\n",
        "\n",
        "$$\n",
        "M_1x =\n",
        "\\left(\\begin{array}{cc}\n",
        "1/2 & 0\\\\\n",
        "0 & 3\n",
        "\\end{array}\\right)\n",
        "\\left (\\begin{array}{cc}\n",
        "2\\\\\n",
        "1\n",
        "\\end{array}\\right)=\n",
        "\\left(\\begin{array}{cc}\n",
        "1/2 \\cdot 2 + 0 \\cdot 1\\\\\n",
        "0 \\cdot 2 + 3 \\cdot 1\n",
        "\\end{array}\\right)=\n",
        "\\left(\\begin{array}{cc}\n",
        "1\\\\\n",
        "3\n",
        "\\end{array}\\right)\n",
        "$$"
      ],
      "metadata": {
        "id": "_BvcoZCyg8nk"
      }
    },
    {
      "cell_type": "markdown",
      "source": [
        "#### 2.2 Відобрази вектор $x$ відносно початку координат."
      ],
      "metadata": {
        "id": "Rlhpc8-24M9k"
      }
    },
    {
      "cell_type": "markdown",
      "source": [
        "\n",
        "$$\n",
        "M_2 =\n",
        "\\left (\\begin{array}{cc}\n",
        "-1 & 0\\\\\n",
        "0 & -1\n",
        "\\end{array}\\right)\n",
        "$$\n",
        "\n",
        "$$\n",
        "M_2x =\n",
        "\\left (\\begin{array}{cc}\n",
        "-2\\\\\n",
        "-1\n",
        "\\end{array}\\right)\n",
        "$$"
      ],
      "metadata": {
        "id": "35Ld0CHYgsXY"
      }
    },
    {
      "cell_type": "markdown",
      "source": [
        "#### 2.3 Перенеси вектор $x$ на -3 по вісі $OX$ та на 1 по вісі $OY$."
      ],
      "metadata": {
        "id": "V5AiNUx14MvZ"
      }
    },
    {
      "cell_type": "markdown",
      "source": [
        "\n",
        "$$\n",
        "M_3 =\n",
        "\\left (\\begin{array}{cc}\n",
        "-3\\\\\n",
        "1\n",
        "\\end{array}\\right)\n",
        "$$\n",
        "\n",
        "\n",
        "$$\n",
        "M_3x =\n",
        "\\left (\\begin{array}{cc}\n",
        "-1\\\\\n",
        "2\n",
        "\\end{array}\\right)\n",
        "$$"
      ],
      "metadata": {
        "id": "qtzBmsNcgpQA"
      }
    },
    {
      "cell_type": "markdown",
      "source": [
        "#### 2.4 Змісти вектор $x$ на 60° по вісі $OY$.\n"
      ],
      "metadata": {
        "id": "VfjTQ4li9Neq"
      }
    },
    {
      "cell_type": "markdown",
      "source": [
        "\n",
        "\n",
        "\n",
        "$$\n",
        "M_4 =\\begin{pmatrix}\n",
        "\\cos(60^\\circ) & -\\sin(60^\\circ) \\\\\n",
        "\\sin(60^\\circ) & \\cos(60^\\circ)\n",
        "\\end{pmatrix}\n",
        "= \\begin{pmatrix}\n",
        "\\frac{1}{2} & -\\frac{\\sqrt{3}}{2} \\\\\n",
        "\\frac{\\sqrt{3}}{2} & \\frac{1}{2}\n",
        "\\end{pmatrix}\n",
        "$$\n",
        "\n",
        "2. Transformation auf den Vektor \\( x \\):\n",
        "\n",
        "$$\n",
        "M_4 \\cdot x = \\begin{pmatrix}\n",
        "\\frac{1}{2} & -\\frac{\\sqrt{3}}{2} \\\\\n",
        "\\frac{\\sqrt{3}}{2} & \\frac{1}{2}\n",
        "\\end{pmatrix}\n",
        "\\begin{pmatrix}\n",
        "2 \\\\\n",
        "1\n",
        "\\end{pmatrix}\n",
        "= \\begin{pmatrix}\n",
        "\\frac{1}{2} \\cdot 2 + \\left(-\\frac{\\sqrt{3}}{2}\\right) \\cdot 1 \\\\\n",
        "\\frac{\\sqrt{3}}{2} \\cdot 2 + \\frac{1}{2} \\cdot 1\n",
        "\\end{pmatrix}\n",
        "= \\begin{pmatrix}\n",
        "1 - \\frac{\\sqrt{3}}{2} \\\\\n",
        "\\sqrt{3} + \\frac{1}{2}\n",
        "\\end{pmatrix}\n",
        "$$\n"
      ],
      "metadata": {
        "id": "1-0_aTZiglze"
      }
    },
    {
      "cell_type": "markdown",
      "source": [
        "#### 2.5 Поверни вектор $x$ на 30°."
      ],
      "metadata": {
        "id": "F5dbVgGr9RCD"
      }
    },
    {
      "cell_type": "markdown",
      "source": [
        "\n",
        "$$\n",
        "M_5 = \\begin{pmatrix}\n",
        "\\cos(30^\\circ) & -\\sin(30^\\circ) \\\\\n",
        "\\sin(30^\\circ) & \\cos(30^\\circ)\n",
        "\\end{pmatrix}\n",
        "= \\begin{pmatrix}\n",
        "\\frac{\\sqrt{3}}{2} & -\\frac{1}{2} \\\\\n",
        "\\frac{1}{2} & \\frac{\\sqrt{3}}{2}\n",
        "\\end{pmatrix}\n",
        "$$\n",
        "\n",
        "2. Transformation  Vektor \\( x \\):\n",
        "\n",
        "$$\n",
        "M_5 \\cdot x = \\begin{pmatrix}\n",
        "\\frac{\\sqrt{3}}{2} & -\\frac{1}{2} \\\\\n",
        "\\frac{1}{2} & \\frac{\\sqrt{3}}{2}\n",
        "\\end{pmatrix}\n",
        "\\begin{pmatrix}\n",
        "2 \\\\\n",
        "1\n",
        "\\end{pmatrix}\n",
        "= \\begin{pmatrix}\n",
        "\\frac{\\sqrt{3}}{2} \\cdot 2 + \\left(-\\frac{1}{2}\\right) \\cdot 1 \\\\\n",
        "\\frac{1}{2} \\cdot 2 + \\frac{\\sqrt{3}}{2} \\cdot 1\n",
        "\\end{pmatrix}\n",
        "= \\begin{pmatrix}\n",
        "\\sqrt{3} - \\frac{1}{2} \\\\\n",
        "1 + \\frac{\\sqrt{3}}{2}\n",
        "\\end{pmatrix}\n",
        "$$\n",
        "\n",
        "\n",
        "\n"
      ],
      "metadata": {
        "id": "ABCk4cPhg2Zp"
      }
    },
    {
      "cell_type": "markdown",
      "source": [
        "#### 2.6 Об'єднай перетворення з кроків 1, 2, 4, 5 в одну матрицю та застосуй її до вектору $x$."
      ],
      "metadata": {
        "id": "nXJQVzee9RTp"
      }
    },
    {
      "cell_type": "markdown",
      "source": [
        "$$\n",
        "M_6 = M_5 \\cdot M_4 \\cdot M_2 \\cdot M_1 = ?\n",
        "$$"
      ],
      "metadata": {
        "id": "NzEYWaaZHUGm"
      }
    },
    {
      "cell_type": "markdown",
      "source": [
        "$$\n",
        "M_6 =\n",
        "\\left (\\begin{array}{cc}\n",
        "? & ?\\\\\n",
        "? & ?\n",
        "\\end{array}\\right)\n",
        "\\\\\n",
        "M_6x = ?\n",
        "$$\n",
        "\n",
        "\n",
        "\n",
        "1. Matrix \\( M_6 \\):\n",
        "\n",
        "$$\n",
        "M_6 = M_5 \\cdot M_4 \\cdot M_2 \\cdot M_1\n",
        "$$\n",
        "\n",
        "2.\n",
        "\n",
        "$$\n",
        "M_2 \\cdot M_1 = \\begin{pmatrix}\n",
        "-1 & 0 \\\\\n",
        "0 & -1\n",
        "\\end{pmatrix}\n",
        "\\begin{pmatrix}\n",
        "1 & 0 \\\\\n",
        "0 & 3\n",
        "\\end{pmatrix}\n",
        "= \\begin{pmatrix}\n",
        "-1 & 0 \\\\\n",
        "0 & -3\n",
        "\\end{pmatrix}\n",
        "$$\n",
        "\n",
        "$$\n",
        "M_4 \\cdot \\begin{pmatrix}\n",
        "-1 & 0 \\\\\n",
        "0 & -3\n",
        "\\end{pmatrix}\n",
        "= \\begin{pmatrix}\n",
        "\\frac{1}{2} & -\\frac{\\sqrt{3}}{2} \\\\\n",
        "\\frac{\\sqrt{3}}{2} & \\frac{1}{2}\n",
        "\\end{pmatrix}\n",
        "\\begin{pmatrix}\n",
        "-1 & 0 \\\\\n",
        "0 & -3\n",
        "\\end{pmatrix}\n",
        "= \\begin{pmatrix}\n",
        "-\\frac{1}{2} & \\frac{3\\sqrt{3}}{2} \\\\\n",
        "-\\frac{\\sqrt{3}}{2} & -\\frac{3}{2}\n",
        "\\end{pmatrix}\n",
        "$$\n",
        "\n",
        "$$\n",
        "M_5 \\cdot \\begin{pmatrix}\n",
        "-\\frac{1}{2} & \\frac{3\\sqrt{3}}{2} \\\\\n",
        "-\\frac{\\sqrt{3}}{2} & -\\frac{3}{2}\n",
        "\\end{pmatrix}\n",
        "= \\begin{pmatrix}\n",
        "\\frac{\\sqrt{3}}{2} & -\\frac{1}{2} \\\\\n",
        "\\frac{1}{2} & \\frac{\\sqrt{3}}{2}\n",
        "\\end{pmatrix}\n",
        "\\begin{pmatrix}\n",
        "-\\frac{1}{2} & \\frac{3\\sqrt{3}}{2} \\\\\n",
        "-\\frac{\\sqrt{3}}{2} & -\\frac{3}{2}\n",
        "\\end{pmatrix}\n",
        "= \\begin{pmatrix}\n",
        "-\\frac{\\sqrt{3}}{4} + \\frac{3\\sqrt{3}}{4} & -\\frac{3}{4} - \\frac{9\\sqrt{3}}{4} \\\\\n",
        "-\\frac{1}{4} - \\frac{3}{4} & -\\frac{3}{4} + \\frac{3(1+\\sqrt{3})}{4}\n",
        "\\end{pmatrix}\n",
        "= \\begin{pmatrix}\n",
        "\\frac{3\\sqrt{3} - \\sqrt{3}}{4} & \\frac{3\\sqrt{3} - 9}{4} \\\\\n",
        "-\\frac{1 + 3}{4} & \\frac{3(1+\\sqrt{3}) - 3}{4}\n",
        "\\end{pmatrix}\n",
        "= \\begin{pmatrix}\n",
        "\\frac{2\\sqrt{3}}{4} & \\frac{3\\sqrt{3} - 9}{4} \\\\\n",
        "-\\frac{4}{4} & \\frac{3(1+\\sqrt{3})}{4}\n",
        "\\end{pmatrix}\n",
        "= \\begin{pmatrix}\n",
        "\\frac{\\sqrt{3}}{2} & \\frac{3\\sqrt{3} - 9}{4} \\\\\n",
        "-1 & \\frac{3(1+\\sqrt{3})}{4}\n",
        "\\end{pmatrix}\n",
        "$$\n",
        "\n",
        "3. M_6 Matrix x Vektor \\( x \\):\n",
        "\n",
        "$$\n",
        "M_6\\cdot x = \\begin{pmatrix}\n",
        "\\frac{\\sqrt{3}}{2} & \\frac{3\\sqrt{3} - 9}{4} \\\\\n",
        "-1 & \\frac{3(1+\\sqrt{3})}{4}\n",
        "\\end{pmatrix}\n",
        "\\begin{pmatrix}\n",
        "2 \\\\\n",
        "1\n",
        "\\end{pmatrix}\n",
        "= \\begin{pmatrix}\n",
        "\\frac{\\sqrt{3}}{2} \\cdot 2 + \\frac{3\\sqrt{3} - 9}{4} \\cdot 1 \\\\\n",
        "-1 \\cdot 2 + \\frac{3(1+\\sqrt{3})}{4} \\cdot 1\n",
        "\\end{pmatrix}\n",
        "= \\begin{pmatrix}\n",
        "\\frac{2\\sqrt{3}}{2} + \\frac{3\\sqrt{3} - 9}{4} \\\\\n",
        "-2 + \\frac{3 + 3\\sqrt{3}}{4}\n",
        "\\end{pmatrix}\n",
        "= \\begin{pmatrix}\n",
        "\\sqrt{3} + \\frac{3\\sqrt{3} - 9}{4} \\\\\n",
        "-2 + \\frac{3(1+\\sqrt{3})}{4}\n",
        "\\end{pmatrix}\n",
        "= \\begin{pmatrix}\n",
        "\\frac{4\\sqrt{3} + 3\\sqrt{3} - 9}{4} \\\\\n",
        "-2 + \\frac{3(1+\\sqrt{3})}{4}\n",
        "\\end{pmatrix}\n",
        "= \\begin{pmatrix}\n",
        "\\frac{7\\sqrt{3} - 9}{4} \\\\\n",
        "-2 + \\frac{3 + 3\\sqrt{3}}{4}\n",
        "\\end{pmatrix}\n",
        "= \\begin{pmatrix}\n",
        "\\frac{7\\sqrt{3} - 9}{4} \\\\\n",
        "\\frac{-8 + 3 + 3\\sqrt{3}}{4}\n",
        "\\end{pmatrix}\n",
        "= \\begin{pmatrix}\n",
        "\\frac{7\\sqrt{3} - 9}{4} \\\\\n",
        "\\frac{-5 + 3\\sqrt{3}}{4}\n",
        "\\end{pmatrix}\n",
        "$$\n"
      ],
      "metadata": {
        "id": "483K8PxWY0Na"
      }
    },
    {
      "cell_type": "code",
      "source": [],
      "metadata": {
        "id": "krE4_MLkCchf"
      },
      "execution_count": null,
      "outputs": []
    },
    {
      "cell_type": "markdown",
      "source": [
        "# Завдання 2 (Альтернативне)"
      ],
      "metadata": {
        "id": "4Hskh6fFb89N"
      }
    },
    {
      "cell_type": "code",
      "source": [
        "import cv2 as cv\n",
        "import urllib\n",
        "import numpy as np\n",
        "from google.colab.patches import cv2_imshow as cv_imshow\n",
        "\n",
        "# Read an image\n",
        "def read_image_by_url(url):\n",
        "    req = urllib.request.urlopen(url)\n",
        "    arr = np.asarray(bytearray(req.read()), dtype=np.uint8)\n",
        "    img = cv.imdecode(arr, -1)\n",
        "    return img\n",
        "\n",
        "url = ''\n",
        "\n",
        "img = read_image_by_url(url)"
      ],
      "metadata": {
        "id": "T9X-m9XvdlPK"
      },
      "execution_count": null,
      "outputs": []
    },
    {
      "cell_type": "code",
      "source": [
        "cv_imshow(img)"
      ],
      "metadata": {
        "id": "3oDsfgd25Rx7"
      },
      "execution_count": null,
      "outputs": []
    },
    {
      "cell_type": "code",
      "source": [],
      "metadata": {
        "id": "XmpNfQZpira8"
      },
      "execution_count": null,
      "outputs": []
    }
  ]
}